{
 "cells": [
  {
   "cell_type": "code",
   "execution_count": 1,
   "metadata": {},
   "outputs": [],
   "source": [
    "from qiskit import QuantumCircuit, IBMQ, Aer\n",
    "from qiskit.tools.visualization import plot_histogram\n",
    "from qiskit import execute\n",
    "import numpy as np\n",
    "import matplotlib.pyplot as plt\n",
    "%matplotlib inline"
   ]
  },
  {
   "cell_type": "markdown",
   "metadata": {},
   "source": [
    "# Available local and remote backends\n",
    "\n",
    "Check out tutorials on how to setup an account:\n",
    "https://github.com/Qiskit/qiskit-iqx-tutorials"
   ]
  },
  {
   "cell_type": "code",
   "execution_count": 2,
   "metadata": {},
   "outputs": [
    {
     "name": "stdout",
     "output_type": "stream",
     "text": [
      "Available AER backends:\n",
      "    - qasm_simulator\n",
      "    - statevector_simulator\n",
      "    - unitary_simulator\n"
     ]
    }
   ],
   "source": [
    "# print local backends\n",
    "print('Available AER backends:')\n",
    "for backend in Aer.backends():\n",
    "    print('    - %s' % backend)"
   ]
  },
  {
   "cell_type": "code",
   "execution_count": 3,
   "metadata": {},
   "outputs": [
    {
     "data": {
      "text/plain": [
       "<AccountProvider for IBMQ(hub='ibm-q', group='open', project='main')>"
      ]
     },
     "execution_count": 3,
     "metadata": {},
     "output_type": "execute_result"
    }
   ],
   "source": [
    "# load account\n",
    "IBMQ.enable_account('331d90fd4dc5bcb01293f261c288c084cbe41e750b14394436a2c57384d17745c0466b667dade1a286585dc6ba51646492b27da8bedec423a4e41d3ea91ce26a')\n",
    "#IBMQ.load_account()"
   ]
  },
  {
   "cell_type": "code",
   "execution_count": 4,
   "metadata": {},
   "outputs": [
    {
     "name": "stdout",
     "output_type": "stream",
     "text": [
      "Available IBMQ providers:\n",
      "    - <AccountProvider for IBMQ(hub='ibm-q', group='open', project='main')>\n",
      "    - <AccountProvider for IBMQ(hub='ibm-q-internal', group='zrl', project='main')>\n"
     ]
    }
   ],
   "source": [
    "# check providers in account\n",
    "print('Available IBMQ providers:')\n",
    "for provider in IBMQ.providers():\n",
    "    print('    - %s' % provider)"
   ]
  },
  {
   "cell_type": "code",
   "execution_count": 5,
   "metadata": {},
   "outputs": [
    {
     "name": "stdout",
     "output_type": "stream",
     "text": [
      "Available backends:\n",
      "    - ibmq_qasm_simulator\n",
      "    - ibmqx4\n",
      "    - ibmqx2\n",
      "    - ibmq_16_melbourne\n",
      "    - ibmq_ourense\n"
     ]
    }
   ],
   "source": [
    "# select provider and print backends\n",
    "provider = IBMQ.get_provider(hub='ibm-q')\n",
    "print('Available backends:')\n",
    "for backend in provider.backends():\n",
    "    print('    - %s' % backend)"
   ]
  },
  {
   "cell_type": "code",
   "execution_count": 6,
   "metadata": {},
   "outputs": [],
   "source": [
    "# select a backend for the tutorial\n",
    "backend = Aer.get_backend('qasm_simulator')"
   ]
  },
  {
   "cell_type": "markdown",
   "metadata": {},
   "source": [
    "# Setting up Quantum Circuits\n",
    "\n",
    "Before we can work with qubits and quantum gates, we first have to initialize our quantum circuit with the corresponding quantum and classical registers.\n",
    "<br>\n",
    "Please note that given $n$ qubits/bits in a quantum/classical register the qubits/bits are read in the following order: $[q_{n-1}, ..., q_1, q_0]$."
   ]
  },
  {
   "cell_type": "code",
   "execution_count": 7,
   "metadata": {},
   "outputs": [
    {
     "data": {
      "image/png": "[encoded data removed]",
      "text/plain": [
       "<Figure size 156.52x144.48 with 1 Axes>"
      ]
     },
     "execution_count": 7,
     "metadata": {},
     "output_type": "execute_result"
    }
   ],
   "source": [
    "# create a quantum circuit\n",
    "qc = QuantumCircuit(2)\n",
    "qc.draw(output='mpl')"
   ]
  },
  {
   "cell_type": "markdown",
   "metadata": {},
   "source": [
    "# Some basic gates"
   ]
  },
  {
   "cell_type": "markdown",
   "metadata": {},
   "source": [
    "## X gate\n",
    "\n",
    "The X gate is the quantum equivalent to the classical NOT gate and, thus, flips $|0\\rangle$ to $|1\\rangle$ and vice versa.<br>\n",
    "In matrix form the quantum gate reads\n",
    "$\\left(\\begin{array}{cc} 0 & 1 \\\\ 1 & 0 \\end{array} \\right)$.\n",
    "<br>\n",
    "<br>\n",
    "<b>Exercise:</b><br>\n",
    "Try to create a circuit that generates the state |10>."
   ]
  },
  {
   "cell_type": "code",
   "execution_count": 8,
   "metadata": {},
   "outputs": [
    {
     "name": "stdout",
     "output_type": "stream",
     "text": [
      "counts: {'01': 1}\n"
     ]
    },
    {
     "data": {
      "image/png": "[encoded data removed]",
      "text/plain": [
       "<Figure size 276.92x204.68 with 1 Axes>"
      ]
     },
     "execution_count": 8,
     "metadata": {},
     "output_type": "execute_result"
    }
   ],
   "source": [
    "# create a quantum circuit\n",
    "qc = QuantumCircuit(2, 2)\n",
    "\n",
    "# add a X gate on qubit, flipping it from |0> to |1>\n",
    "qc.x(0)\n",
    "# qc.x(1)\n",
    "\n",
    "# measure qubit\n",
    "qc.measure([0, 1], [0, 1]);\n",
    "\n",
    "# compile and run the quantum circuit\n",
    "shots = 1\n",
    "job = execute(qc, backend, shots=shots)\n",
    "results = job.result()\n",
    "print(\"counts:\", results.get_counts())\n",
    "\n",
    "# plot the circuit\n",
    "qc.draw(output='mpl')"
   ]
  },
  {
   "cell_type": "markdown",
   "metadata": {},
   "source": [
    "## H gate\n",
    "\n",
    "The H gate reads\n",
    "$\\frac{1}{\\sqrt{2}}\\left(\\begin{array}{cc} 1 & 1 \\\\ 1 & -1 \\end{array} \\right)$.\n",
    "Thus, it maps $|0\\rangle$ to $\\frac{1}{\\sqrt{2}}(|0\\rangle + |1\\rangle) =: |+\\rangle$, i.e., into the equal superposition state.\n",
    "<br>\n",
    "<br>\n",
    "<b>Exercise:</b><br>\n",
    "Repeat the experiment a couple of times.<br>\n",
    "How does the result behave?<br>\n",
    "What happens if you increase the number of shots?"
   ]
  },
  {
   "cell_type": "code",
   "execution_count": 9,
   "metadata": {},
   "outputs": [
    {
     "data": {
      "image/png": "[encoded data removed]",
      "text/plain": [
       "<Figure size 233.576x144.48 with 1 Axes>"
      ]
     },
     "execution_count": 9,
     "metadata": {},
     "output_type": "execute_result"
    }
   ],
   "source": [
    "# create a quantum circuit\n",
    "qc = QuantumCircuit(1, 1)\n",
    "\n",
    "# add a H gate and apply it on qubit 0, mapping |0> to 1/√2(|0⟩+|1⟩)=:|+⟩\n",
    "qc.h(0)\n",
    "\n",
    "# measure qubit\n",
    "qc.measure(0, 0)\n",
    "\n",
    "# plot the circuit\n",
    "qc.draw(output='mpl')"
   ]
  },
  {
   "cell_type": "code",
   "execution_count": 10,
   "metadata": {},
   "outputs": [
    {
     "name": "stdout",
     "output_type": "stream",
     "text": [
      "counts: {'0': 1}\n"
     ]
    },
    {
     "data": {
      "image/png": "[encoded data removed]",
      "text/plain": [
       "<Figure size 504x360 with 1 Axes>"
      ]
     },
     "execution_count": 10,
     "metadata": {},
     "output_type": "execute_result"
    }
   ],
   "source": [
    "# compile and run the quantum circuit on the local simulator\n",
    "shots = 1\n",
    "job = execute(qc, backend, shots=shots)\n",
    "results = job.result()\n",
    "print(\"counts:\", results.get_counts())\n",
    "\n",
    "# plot results\n",
    "plot_histogram(results.get_counts())"
   ]
  },
  {
   "cell_type": "markdown",
   "metadata": {},
   "source": [
    "## Y rotation\n",
    "\n",
    "A Y-rotation of angle $\\theta$, denoted $R_y(\\theta)$, acts like\n",
    "$e^{-i\\frac{\\theta}{2}Y} = \\left(\\begin{array}{cc} \\cos(\\theta/2) & -\\sin(\\theta/2) \\\\ \\sin(\\theta/2) & \\cos(\\theta/2) \\end{array} \\right)$.<br>\n",
    "It rotates a single qubit state around the Y-axis of the Bloch sphere.<br>\n",
    "When applied to $|0\\rangle$, the probability of measuring $|1\\rangle$ equals $\\sin^2(\\theta/2)$.\n",
    "<br>\n",
    "<br>\n",
    "\n",
    "\n",
    "<b>Exercise:</b><br>\n",
    "Find $\\theta$ such that $\\mathbb{P}[|1\\rangle] = 75\\%$ and verify it by executing the circuit."
   ]
  },
  {
   "cell_type": "code",
   "execution_count": 11,
   "metadata": {},
   "outputs": [
    {
     "data": {
      "image/png": "[encoded data removed]",
      "text/plain": [
       "<Figure size 233.576x144.48 with 1 Axes>"
      ]
     },
     "execution_count": 11,
     "metadata": {},
     "output_type": "execute_result"
    }
   ],
   "source": [
    "# create a quantum circuit\n",
    "qc = QuantumCircuit(1, 1)\n",
    "\n",
    "# add a Y-rotation on qubit 0 with rotation angle theta\n",
    "theta = np.pi/2\n",
    "qc.ry(theta, 0)\n",
    "\n",
    "# measure qubit\n",
    "qc.measure(0, 0)\n",
    "\n",
    "# plot the circuit\n",
    "qc.draw(output='mpl')"
   ]
  },
  {
   "cell_type": "code",
   "execution_count": 12,
   "metadata": {},
   "outputs": [
    {
     "name": "stdout",
     "output_type": "stream",
     "text": [
      "counts: {'0': 481, '1': 519}\n"
     ]
    },
    {
     "data": {
      "image/png": "[encoded data removed]",
      "text/plain": [
       "<Figure size 504x360 with 1 Axes>"
      ]
     },
     "execution_count": 12,
     "metadata": {},
     "output_type": "execute_result"
    }
   ],
   "source": [
    "# compile and run the quantum circuit on the local simulator\n",
    "shots = 1000\n",
    "job = execute(qc, backend, shots=shots)\n",
    "results = job.result()\n",
    "print(\"counts:\", results.get_counts())\n",
    "\n",
    "# plot results\n",
    "plot_histogram(results.get_counts())"
   ]
  },
  {
   "cell_type": "markdown",
   "metadata": {},
   "source": [
    "## CX gate\n",
    "\n",
    "A controlled X (CX) gate acts on two qubits like\n",
    "$\\left(\\begin{array}{cccc} \n",
    "1 & 0 & 0 & 0 \\\\ \n",
    "0 & 1 & 0 & 0 \\\\\n",
    "0 & 0 & 0 & 1 \\\\\n",
    "0 & 0 & 1 & 0 \\end{array} \\right)$.\n",
    "<br>\n",
    "Thus, it flips (applies an X gate to) the second qubit if the first qubit is $|1\\rangle$ and otherwise has no effect.\n",
    "<br>\n",
    "<br>\n",
    "<b>Exercise:</b><br>\n",
    "See what happens when applying the CX to $|00\\rangle$, $|01\\rangle$, $|10\\rangle$, $|11\\rangle$.\n",
    "<br>\n",
    "The initial qubit states can be prepared via single-qubit X gates."
   ]
  },
  {
   "cell_type": "code",
   "execution_count": 13,
   "metadata": {},
   "outputs": [
    {
     "name": "stdout",
     "output_type": "stream",
     "text": [
      "counts: {'11': 1024}\n"
     ]
    },
    {
     "data": {
      "image/png": "[encoded data removed]",
      "text/plain": [
       "<Figure size 397.32x204.68 with 1 Axes>"
      ]
     },
     "execution_count": 13,
     "metadata": {},
     "output_type": "execute_result"
    }
   ],
   "source": [
    "# create a quantum circuit\n",
    "qc = QuantumCircuit(2, 2)\n",
    "\n",
    "# set initial state\n",
    "qc.x(0)  # flips q[0] from |0> to |1>\n",
    "# qc.x(1)  # flips q[1] from |0> to |1>\n",
    "\n",
    "# apply CX gate with control q[0] and target q[1]\n",
    "qc.cx(0, 1)\n",
    "\n",
    "# measure qubit\n",
    "qc.measure([0, 1], [0, 1])\n",
    "\n",
    "# compile and run the quantum circuit on the local simulator\n",
    "shots = 1024\n",
    "job = execute(qc, backend, shots=shots)\n",
    "results = job.result()\n",
    "print(\"counts:\", results.get_counts())\n",
    "\n",
    "# plot the circuit\n",
    "qc.draw(output='mpl')"
   ]
  },
  {
   "cell_type": "markdown",
   "metadata": {},
   "source": [
    "# The Bell state\n",
    "\n",
    "A Bell state is a fully entangled state of two qubits that has no classical counter part.\n",
    "<br>\n",
    "It is given by: $$\\frac{1}{\\sqrt{2}}(|00\\rangle + |11\\rangle)$$\n",
    "\n",
    "Given an initial two qubit system $|00\\rangle$, we create a Bell state by applying an H gate to the first qubit and, then, a CX gate where the first qubit acts as control and the second qubit as target state."
   ]
  },
  {
   "cell_type": "code",
   "execution_count": 14,
   "metadata": {},
   "outputs": [
    {
     "data": {
      "image/png": "[encoded data removed]",
      "text/plain": [
       "<Figure size 397.32x204.68 with 1 Axes>"
      ]
     },
     "execution_count": 14,
     "metadata": {},
     "output_type": "execute_result"
    }
   ],
   "source": [
    "# create a quantum circuit\n",
    "qc = QuantumCircuit(2, 2)\n",
    "\n",
    "# add a H gate on qubit 0, putting this qubit in superposition\n",
    "qc.h(0)\n",
    "\n",
    "# add a CX (CNOT) gate on control qubit 0 and target qubit 1\n",
    "qc.cx(0, 1)\n",
    "\n",
    "# add a measure gate to see the state.\n",
    "qc.measure([0, 1], [0, 1])\n",
    "\n",
    "# plot the circuit\n",
    "qc.draw(output='mpl')"
   ]
  },
  {
   "cell_type": "code",
   "execution_count": 15,
   "metadata": {},
   "outputs": [
    {
     "name": "stdout",
     "output_type": "stream",
     "text": [
      "counts: {'00': 507, '11': 493}\n"
     ]
    },
    {
     "data": {
      "image/png": "[encoded data removed]",
      "text/plain": [
       "<Figure size 504x360 with 1 Axes>"
      ]
     },
     "execution_count": 15,
     "metadata": {},
     "output_type": "execute_result"
    }
   ],
   "source": [
    "# compile and run the quantum circuit on the local simulator\n",
    "shots = 1000\n",
    "job = execute(qc, backend, shots=shots)\n",
    "results = job.result()\n",
    "print(\"counts:\", results.get_counts())\n",
    "\n",
    "# plot results\n",
    "plot_histogram(results.get_counts())"
   ]
  },
  {
   "cell_type": "markdown",
   "metadata": {},
   "source": [
    "<b>Exercise:</b><br>\n",
    "Prepare the following state: $\\frac{1}{\\sqrt{2}}(|01\\rangle + |10\\rangle)$ by designing a quantum circuit that is similar to the Bell state construction."
   ]
  },
  {
   "cell_type": "code",
   "execution_count": 16,
   "metadata": {},
   "outputs": [
    {
     "data": {
      "image/png": "[encoded data removed]",
      "text/plain": [
       "<Figure size 276.92x204.68 with 1 Axes>"
      ]
     },
     "execution_count": 16,
     "metadata": {},
     "output_type": "execute_result"
    }
   ],
   "source": [
    "qc = QuantumCircuit(2, 2)\n",
    "\n",
    "# write your circuit here:\n",
    "#\n",
    "#\n",
    "#\n",
    "\n",
    "qc.measure([0, 1], [0, 1])\n",
    "\n",
    "# plot the circuit\n",
    "qc.draw(output='mpl')"
   ]
  },
  {
   "cell_type": "code",
   "execution_count": 17,
   "metadata": {},
   "outputs": [
    {
     "name": "stdout",
     "output_type": "stream",
     "text": [
      "counts: {'00': 1024}\n"
     ]
    },
    {
     "data": {
      "image/png": "[encoded data removed]",
      "text/plain": [
       "<Figure size 504x360 with 1 Axes>"
      ]
     },
     "execution_count": 17,
     "metadata": {},
     "output_type": "execute_result"
    }
   ],
   "source": [
    "# compile and run the quantum circuit on the local simulator\n",
    "job = execute(qc, backend, shots=1024)\n",
    "results = job.result()\n",
    "print(\"counts:\", results.get_counts())\n",
    "\n",
    "# plot results\n",
    "plot_histogram(results.get_counts())"
   ]
  },
  {
   "cell_type": "code",
   "execution_count": null,
   "metadata": {},
   "outputs": [],
   "source": []
  }
 ],
 "metadata": {
  "kernelspec": {
   "display_name": "qiskit",
   "language": "python",
   "name": "qiskit"
  },
  "language_info": {
   "codemirror_mode": {
    "name": "ipython",
    "version": 3
   },
   "file_extension": ".py",
   "mimetype": "text/x-python",
   "name": "python",
   "nbconvert_exporter": "python",
   "pygments_lexer": "ipython3",
   "version": "3.6.7"
  }
 },
 "nbformat": 4,
 "nbformat_minor": 2
}
